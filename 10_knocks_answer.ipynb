{
 "cells": [
  {
   "cell_type": "code",
   "execution_count": 1,
   "metadata": {},
   "outputs": [],
   "source": [
    "import polars as pl\n",
    "\n",
    "\n",
    "# データの読み込み\n",
    "purchase_df = pl.read_csv(\"assets/purchase_data.csv\")\n",
    "sale_df = pl.read_csv(\"assets/sale_data.csv\")"
   ]
  },
  {
   "cell_type": "code",
   "execution_count": 2,
   "metadata": {},
   "outputs": [
    {
     "data": {
      "text/html": [
       "<div><style>\n",
       ".dataframe > thead > tr,\n",
       ".dataframe > tbody > tr {\n",
       "  text-align: right;\n",
       "  white-space: pre-wrap;\n",
       "}\n",
       "</style>\n",
       "<small>shape: (1_000, 4)</small><table border=\"1\" class=\"dataframe\"><thead><tr><th>売上日</th><th>時刻</th><th>ユーザー</th><th>購入金額</th></tr><tr><td>str</td><td>i64</td><td>str</td><td>i64</td></tr></thead><tbody><tr><td>&quot;2025-01-01&quot;</td><td>9</td><td>&quot;A&quot;</td><td>3510</td></tr><tr><td>&quot;2025-01-01&quot;</td><td>9</td><td>&quot;I&quot;</td><td>2100</td></tr><tr><td>&quot;2025-01-01&quot;</td><td>13</td><td>&quot;C&quot;</td><td>4210</td></tr><tr><td>&quot;2025-01-01&quot;</td><td>13</td><td>&quot;M&quot;</td><td>1850</td></tr><tr><td>&quot;2025-01-01&quot;</td><td>14</td><td>&quot;A&quot;</td><td>2770</td></tr><tr><td>&hellip;</td><td>&hellip;</td><td>&hellip;</td><td>&hellip;</td></tr><tr><td>&quot;2025-03-31&quot;</td><td>19</td><td>&quot;H&quot;</td><td>3250</td></tr><tr><td>&quot;2025-03-31&quot;</td><td>19</td><td>&quot;W&quot;</td><td>3960</td></tr><tr><td>&quot;2025-03-31&quot;</td><td>20</td><td>&quot;A&quot;</td><td>2960</td></tr><tr><td>&quot;2025-03-31&quot;</td><td>21</td><td>&quot;B&quot;</td><td>1190</td></tr><tr><td>&quot;2025-03-31&quot;</td><td>21</td><td>&quot;D&quot;</td><td>3570</td></tr></tbody></table></div>"
      ],
      "text/plain": [
       "shape: (1_000, 4)\n",
       "┌────────────┬──────┬──────────┬──────────┐\n",
       "│ 売上日     ┆ 時刻 ┆ ユーザー ┆ 購入金額 │\n",
       "│ ---        ┆ ---  ┆ ---      ┆ ---      │\n",
       "│ str        ┆ i64  ┆ str      ┆ i64      │\n",
       "╞════════════╪══════╪══════════╪══════════╡\n",
       "│ 2025-01-01 ┆ 9    ┆ A        ┆ 3510     │\n",
       "│ 2025-01-01 ┆ 9    ┆ I        ┆ 2100     │\n",
       "│ 2025-01-01 ┆ 13   ┆ C        ┆ 4210     │\n",
       "│ 2025-01-01 ┆ 13   ┆ M        ┆ 1850     │\n",
       "│ 2025-01-01 ┆ 14   ┆ A        ┆ 2770     │\n",
       "│ …          ┆ …    ┆ …        ┆ …        │\n",
       "│ 2025-03-31 ┆ 19   ┆ H        ┆ 3250     │\n",
       "│ 2025-03-31 ┆ 19   ┆ W        ┆ 3960     │\n",
       "│ 2025-03-31 ┆ 20   ┆ A        ┆ 2960     │\n",
       "│ 2025-03-31 ┆ 21   ┆ B        ┆ 1190     │\n",
       "│ 2025-03-31 ┆ 21   ┆ D        ┆ 3570     │\n",
       "└────────────┴──────┴──────────┴──────────┘"
      ]
     },
     "metadata": {},
     "output_type": "display_data"
    }
   ],
   "source": [
    "# `purchase_data`の表示\n",
    "display(purchase_df)"
   ]
  },
  {
   "cell_type": "code",
   "execution_count": 3,
   "metadata": {},
   "outputs": [
    {
     "data": {
      "text/html": [
       "<div><style>\n",
       ".dataframe > thead > tr,\n",
       ".dataframe > tbody > tr {\n",
       "  text-align: right;\n",
       "  white-space: pre-wrap;\n",
       "}\n",
       "</style>\n",
       "<small>shape: (10, 1)</small><table border=\"1\" class=\"dataframe\"><thead><tr><th>日時</th></tr><tr><td>str</td></tr></thead><tbody><tr><td>&quot;2025-01-28T16:00:00.000000&quot;</td></tr><tr><td>&quot;2025-01-24T18:00:00.000000&quot;</td></tr><tr><td>&quot;2025-03-13T09:00:00.000000&quot;</td></tr><tr><td>&quot;2025-01-09T21:00:00.000000&quot;</td></tr><tr><td>&quot;2025-02-16T10:00:00.000000&quot;</td></tr><tr><td>&quot;2025-02-02T10:00:00.000000&quot;</td></tr><tr><td>&quot;2025-03-03T11:00:00.000000&quot;</td></tr><tr><td>&quot;2025-01-19T21:00:00.000000&quot;</td></tr><tr><td>&quot;2025-03-08T14:00:00.000000&quot;</td></tr><tr><td>&quot;2025-03-15T09:00:00.000000&quot;</td></tr></tbody></table></div>"
      ],
      "text/plain": [
       "shape: (10, 1)\n",
       "┌────────────────────────────┐\n",
       "│ 日時                       │\n",
       "│ ---                        │\n",
       "│ str                        │\n",
       "╞════════════════════════════╡\n",
       "│ 2025-01-28T16:00:00.000000 │\n",
       "│ 2025-01-24T18:00:00.000000 │\n",
       "│ 2025-03-13T09:00:00.000000 │\n",
       "│ 2025-01-09T21:00:00.000000 │\n",
       "│ 2025-02-16T10:00:00.000000 │\n",
       "│ 2025-02-02T10:00:00.000000 │\n",
       "│ 2025-03-03T11:00:00.000000 │\n",
       "│ 2025-01-19T21:00:00.000000 │\n",
       "│ 2025-03-08T14:00:00.000000 │\n",
       "│ 2025-03-15T09:00:00.000000 │\n",
       "└────────────────────────────┘"
      ]
     },
     "metadata": {},
     "output_type": "display_data"
    }
   ],
   "source": [
    "# `sale_data`の表示\n",
    "display(sale_df)"
   ]
  },
  {
   "cell_type": "markdown",
   "metadata": {},
   "source": [
    "## 1. 文字列から`Datetime型`への変換\n",
    "\n",
    "`purchase_df`の**売上日**および**時刻**からPolarsのDatetime型へ変換して、新しく**日時**列を追加してください。"
   ]
  },
  {
   "cell_type": "markdown",
   "metadata": {},
   "source": [
    "Polarsでは、文字列型のstrアクセラの`to_datetime`を用いることで日時データを文字列型からDatetime型へ変換することができます。  \n",
    "変換時に必要なフォーマット(今回だと`\"%Y-%m-%d\"`)は、[chrono crate documentation](https://docs.rs/chrono/latest/chrono/format/strftime/index.html)を参考にしてください。\n",
    "\n",
    "`Datetime型`に時間(hour)や日にち(day)を加える場合は、`pl.duration`で`Duration型`に変換することで加減算することができます。"
   ]
  },
  {
   "cell_type": "code",
   "execution_count": 4,
   "metadata": {},
   "outputs": [
    {
     "data": {
      "text/html": [
       "<div><style>\n",
       ".dataframe > thead > tr,\n",
       ".dataframe > tbody > tr {\n",
       "  text-align: right;\n",
       "  white-space: pre-wrap;\n",
       "}\n",
       "</style>\n",
       "<small>shape: (1_000, 5)</small><table border=\"1\" class=\"dataframe\"><thead><tr><th>売上日</th><th>時刻</th><th>ユーザー</th><th>購入金額</th><th>日時</th></tr><tr><td>str</td><td>i64</td><td>str</td><td>i64</td><td>datetime[μs]</td></tr></thead><tbody><tr><td>&quot;2025-01-01&quot;</td><td>9</td><td>&quot;A&quot;</td><td>3510</td><td>2025-01-01 09:00:00</td></tr><tr><td>&quot;2025-01-01&quot;</td><td>9</td><td>&quot;I&quot;</td><td>2100</td><td>2025-01-01 09:00:00</td></tr><tr><td>&quot;2025-01-01&quot;</td><td>13</td><td>&quot;C&quot;</td><td>4210</td><td>2025-01-01 13:00:00</td></tr><tr><td>&quot;2025-01-01&quot;</td><td>13</td><td>&quot;M&quot;</td><td>1850</td><td>2025-01-01 13:00:00</td></tr><tr><td>&quot;2025-01-01&quot;</td><td>14</td><td>&quot;A&quot;</td><td>2770</td><td>2025-01-01 14:00:00</td></tr><tr><td>&hellip;</td><td>&hellip;</td><td>&hellip;</td><td>&hellip;</td><td>&hellip;</td></tr><tr><td>&quot;2025-03-31&quot;</td><td>19</td><td>&quot;H&quot;</td><td>3250</td><td>2025-03-31 19:00:00</td></tr><tr><td>&quot;2025-03-31&quot;</td><td>19</td><td>&quot;W&quot;</td><td>3960</td><td>2025-03-31 19:00:00</td></tr><tr><td>&quot;2025-03-31&quot;</td><td>20</td><td>&quot;A&quot;</td><td>2960</td><td>2025-03-31 20:00:00</td></tr><tr><td>&quot;2025-03-31&quot;</td><td>21</td><td>&quot;B&quot;</td><td>1190</td><td>2025-03-31 21:00:00</td></tr><tr><td>&quot;2025-03-31&quot;</td><td>21</td><td>&quot;D&quot;</td><td>3570</td><td>2025-03-31 21:00:00</td></tr></tbody></table></div>"
      ],
      "text/plain": [
       "shape: (1_000, 5)\n",
       "┌────────────┬──────┬──────────┬──────────┬─────────────────────┐\n",
       "│ 売上日     ┆ 時刻 ┆ ユーザー ┆ 購入金額 ┆ 日時                │\n",
       "│ ---        ┆ ---  ┆ ---      ┆ ---      ┆ ---                 │\n",
       "│ str        ┆ i64  ┆ str      ┆ i64      ┆ datetime[μs]        │\n",
       "╞════════════╪══════╪══════════╪══════════╪═════════════════════╡\n",
       "│ 2025-01-01 ┆ 9    ┆ A        ┆ 3510     ┆ 2025-01-01 09:00:00 │\n",
       "│ 2025-01-01 ┆ 9    ┆ I        ┆ 2100     ┆ 2025-01-01 09:00:00 │\n",
       "│ 2025-01-01 ┆ 13   ┆ C        ┆ 4210     ┆ 2025-01-01 13:00:00 │\n",
       "│ 2025-01-01 ┆ 13   ┆ M        ┆ 1850     ┆ 2025-01-01 13:00:00 │\n",
       "│ 2025-01-01 ┆ 14   ┆ A        ┆ 2770     ┆ 2025-01-01 14:00:00 │\n",
       "│ …          ┆ …    ┆ …        ┆ …        ┆ …                   │\n",
       "│ 2025-03-31 ┆ 19   ┆ H        ┆ 3250     ┆ 2025-03-31 19:00:00 │\n",
       "│ 2025-03-31 ┆ 19   ┆ W        ┆ 3960     ┆ 2025-03-31 19:00:00 │\n",
       "│ 2025-03-31 ┆ 20   ┆ A        ┆ 2960     ┆ 2025-03-31 20:00:00 │\n",
       "│ 2025-03-31 ┆ 21   ┆ B        ┆ 1190     ┆ 2025-03-31 21:00:00 │\n",
       "│ 2025-03-31 ┆ 21   ┆ D        ┆ 3570     ┆ 2025-03-31 21:00:00 │\n",
       "└────────────┴──────┴──────────┴──────────┴─────────────────────┘"
      ]
     },
     "metadata": {},
     "output_type": "display_data"
    }
   ],
   "source": [
    "purchase_df = pl.read_csv(\"assets/purchase_data.csv\")\n",
    "purchase_df = purchase_df.with_columns(\n",
    "    (pl.col(\"売上日\").str.to_datetime(\"%Y-%m-%d\") + pl.duration(hours=pl.col(\"時刻\"))).alias(\"日時\")\n",
    ")\n",
    "display(purchase_df)"
   ]
  },
  {
   "cell_type": "markdown",
   "metadata": {},
   "source": [
    "また、Polarsだとデータの読み込み時に` try_parse_dates=True`を指定することで、`date型`や`Datetime型`へ推定させることができます。  "
   ]
  },
  {
   "cell_type": "code",
   "execution_count": 5,
   "metadata": {},
   "outputs": [
    {
     "data": {
      "text/html": [
       "<div><style>\n",
       ".dataframe > thead > tr,\n",
       ".dataframe > tbody > tr {\n",
       "  text-align: right;\n",
       "  white-space: pre-wrap;\n",
       "}\n",
       "</style>\n",
       "<small>shape: (1_000, 5)</small><table border=\"1\" class=\"dataframe\"><thead><tr><th>売上日</th><th>時刻</th><th>ユーザー</th><th>購入金額</th><th>日時</th></tr><tr><td>date</td><td>i64</td><td>str</td><td>i64</td><td>datetime[μs]</td></tr></thead><tbody><tr><td>2025-01-01</td><td>9</td><td>&quot;A&quot;</td><td>3510</td><td>2025-01-01 09:00:00</td></tr><tr><td>2025-01-01</td><td>9</td><td>&quot;I&quot;</td><td>2100</td><td>2025-01-01 09:00:00</td></tr><tr><td>2025-01-01</td><td>13</td><td>&quot;C&quot;</td><td>4210</td><td>2025-01-01 13:00:00</td></tr><tr><td>2025-01-01</td><td>13</td><td>&quot;M&quot;</td><td>1850</td><td>2025-01-01 13:00:00</td></tr><tr><td>2025-01-01</td><td>14</td><td>&quot;A&quot;</td><td>2770</td><td>2025-01-01 14:00:00</td></tr><tr><td>&hellip;</td><td>&hellip;</td><td>&hellip;</td><td>&hellip;</td><td>&hellip;</td></tr><tr><td>2025-03-31</td><td>19</td><td>&quot;H&quot;</td><td>3250</td><td>2025-03-31 19:00:00</td></tr><tr><td>2025-03-31</td><td>19</td><td>&quot;W&quot;</td><td>3960</td><td>2025-03-31 19:00:00</td></tr><tr><td>2025-03-31</td><td>20</td><td>&quot;A&quot;</td><td>2960</td><td>2025-03-31 20:00:00</td></tr><tr><td>2025-03-31</td><td>21</td><td>&quot;B&quot;</td><td>1190</td><td>2025-03-31 21:00:00</td></tr><tr><td>2025-03-31</td><td>21</td><td>&quot;D&quot;</td><td>3570</td><td>2025-03-31 21:00:00</td></tr></tbody></table></div>"
      ],
      "text/plain": [
       "shape: (1_000, 5)\n",
       "┌────────────┬──────┬──────────┬──────────┬─────────────────────┐\n",
       "│ 売上日     ┆ 時刻 ┆ ユーザー ┆ 購入金額 ┆ 日時                │\n",
       "│ ---        ┆ ---  ┆ ---      ┆ ---      ┆ ---                 │\n",
       "│ date       ┆ i64  ┆ str      ┆ i64      ┆ datetime[μs]        │\n",
       "╞════════════╪══════╪══════════╪══════════╪═════════════════════╡\n",
       "│ 2025-01-01 ┆ 9    ┆ A        ┆ 3510     ┆ 2025-01-01 09:00:00 │\n",
       "│ 2025-01-01 ┆ 9    ┆ I        ┆ 2100     ┆ 2025-01-01 09:00:00 │\n",
       "│ 2025-01-01 ┆ 13   ┆ C        ┆ 4210     ┆ 2025-01-01 13:00:00 │\n",
       "│ 2025-01-01 ┆ 13   ┆ M        ┆ 1850     ┆ 2025-01-01 13:00:00 │\n",
       "│ 2025-01-01 ┆ 14   ┆ A        ┆ 2770     ┆ 2025-01-01 14:00:00 │\n",
       "│ …          ┆ …    ┆ …        ┆ …        ┆ …                   │\n",
       "│ 2025-03-31 ┆ 19   ┆ H        ┆ 3250     ┆ 2025-03-31 19:00:00 │\n",
       "│ 2025-03-31 ┆ 19   ┆ W        ┆ 3960     ┆ 2025-03-31 19:00:00 │\n",
       "│ 2025-03-31 ┆ 20   ┆ A        ┆ 2960     ┆ 2025-03-31 20:00:00 │\n",
       "│ 2025-03-31 ┆ 21   ┆ B        ┆ 1190     ┆ 2025-03-31 21:00:00 │\n",
       "│ 2025-03-31 ┆ 21   ┆ D        ┆ 3570     ┆ 2025-03-31 21:00:00 │\n",
       "└────────────┴──────┴──────────┴──────────┴─────────────────────┘"
      ]
     },
     "metadata": {},
     "output_type": "display_data"
    }
   ],
   "source": [
    "purchase_df = pl.read_csv(\"assets/purchase_data.csv\", try_parse_dates=True)\n",
    "purchase_df = purchase_df.with_columns(\n",
    "    (pl.col(\"売上日\").cast(pl.Datetime(\"us\")) + pl.duration(hours=pl.col(\"時刻\"))).alias(\"日時\")\n",
    ")\n",
    "display(purchase_df)"
   ]
  },
  {
   "cell_type": "code",
   "execution_count": 6,
   "metadata": {},
   "outputs": [
    {
     "data": {
      "text/html": [
       "<div><style>\n",
       ".dataframe > thead > tr,\n",
       ".dataframe > tbody > tr {\n",
       "  text-align: right;\n",
       "  white-space: pre-wrap;\n",
       "}\n",
       "</style>\n",
       "<small>shape: (10, 1)</small><table border=\"1\" class=\"dataframe\"><thead><tr><th>日時</th></tr><tr><td>datetime[μs]</td></tr></thead><tbody><tr><td>2025-01-28 16:00:00</td></tr><tr><td>2025-01-24 18:00:00</td></tr><tr><td>2025-03-13 09:00:00</td></tr><tr><td>2025-01-09 21:00:00</td></tr><tr><td>2025-02-16 10:00:00</td></tr><tr><td>2025-02-02 10:00:00</td></tr><tr><td>2025-03-03 11:00:00</td></tr><tr><td>2025-01-19 21:00:00</td></tr><tr><td>2025-03-08 14:00:00</td></tr><tr><td>2025-03-15 09:00:00</td></tr></tbody></table></div>"
      ],
      "text/plain": [
       "shape: (10, 1)\n",
       "┌─────────────────────┐\n",
       "│ 日時                │\n",
       "│ ---                 │\n",
       "│ datetime[μs]        │\n",
       "╞═════════════════════╡\n",
       "│ 2025-01-28 16:00:00 │\n",
       "│ 2025-01-24 18:00:00 │\n",
       "│ 2025-03-13 09:00:00 │\n",
       "│ 2025-01-09 21:00:00 │\n",
       "│ 2025-02-16 10:00:00 │\n",
       "│ 2025-02-02 10:00:00 │\n",
       "│ 2025-03-03 11:00:00 │\n",
       "│ 2025-01-19 21:00:00 │\n",
       "│ 2025-03-08 14:00:00 │\n",
       "│ 2025-03-15 09:00:00 │\n",
       "└─────────────────────┘"
      ]
     },
     "metadata": {},
     "output_type": "display_data"
    }
   ],
   "source": [
    "sale_df = pl.read_csv(\"assets/sale_data.csv\", try_parse_dates=True)\n",
    "display(sale_df)"
   ]
  },
  {
   "cell_type": "markdown",
   "metadata": {},
   "source": [
    "## 2. 土日の午後1時から午後5時までの行動を抽出する\n",
    "\n",
    "`purchase_df`から土日の午後1時から午後5時までのデータを選択して、新しいデータフレーム`new_purchase_df`を作成してください。"
   ]
  },
  {
   "cell_type": "markdown",
   "metadata": {},
   "source": [
    "`Datetime型`はdtアクセサの`.hour()`で時間を、`.weekday()`で1を月曜日、7を日曜日にした曜日を取得することができます。\n",
    "\n",
    "tipsですが、上限と下限が決められている場合は`is_between`で、要素が含まれているかを`is_in`で判定することができてシンプルに記述することができます。"
   ]
  },
  {
   "cell_type": "code",
   "execution_count": 7,
   "metadata": {},
   "outputs": [
    {
     "data": {
      "text/html": [
       "<div><style>\n",
       ".dataframe > thead > tr,\n",
       ".dataframe > tbody > tr {\n",
       "  text-align: right;\n",
       "  white-space: pre-wrap;\n",
       "}\n",
       "</style>\n",
       "<small>shape: (109, 5)</small><table border=\"1\" class=\"dataframe\"><thead><tr><th>売上日</th><th>時刻</th><th>ユーザー</th><th>購入金額</th><th>日時</th></tr><tr><td>str</td><td>i64</td><td>str</td><td>i64</td><td>datetime[μs]</td></tr></thead><tbody><tr><td>&quot;2025-01-04&quot;</td><td>14</td><td>&quot;G&quot;</td><td>3880</td><td>2025-01-04 14:00:00</td></tr><tr><td>&quot;2025-01-04&quot;</td><td>14</td><td>&quot;V&quot;</td><td>1730</td><td>2025-01-04 14:00:00</td></tr><tr><td>&quot;2025-01-04&quot;</td><td>17</td><td>&quot;R&quot;</td><td>2680</td><td>2025-01-04 17:00:00</td></tr><tr><td>&quot;2025-01-04&quot;</td><td>17</td><td>&quot;U&quot;</td><td>3200</td><td>2025-01-04 17:00:00</td></tr><tr><td>&quot;2025-01-05&quot;</td><td>13</td><td>&quot;W&quot;</td><td>3110</td><td>2025-01-05 13:00:00</td></tr><tr><td>&hellip;</td><td>&hellip;</td><td>&hellip;</td><td>&hellip;</td><td>&hellip;</td></tr><tr><td>&quot;2025-03-29&quot;</td><td>17</td><td>&quot;T&quot;</td><td>3720</td><td>2025-03-29 17:00:00</td></tr><tr><td>&quot;2025-03-30&quot;</td><td>13</td><td>&quot;C&quot;</td><td>3320</td><td>2025-03-30 13:00:00</td></tr><tr><td>&quot;2025-03-30&quot;</td><td>16</td><td>&quot;I&quot;</td><td>1820</td><td>2025-03-30 16:00:00</td></tr><tr><td>&quot;2025-03-30&quot;</td><td>16</td><td>&quot;L&quot;</td><td>2400</td><td>2025-03-30 16:00:00</td></tr><tr><td>&quot;2025-03-30&quot;</td><td>17</td><td>&quot;L&quot;</td><td>2090</td><td>2025-03-30 17:00:00</td></tr></tbody></table></div>"
      ],
      "text/plain": [
       "shape: (109, 5)\n",
       "┌────────────┬──────┬──────────┬──────────┬─────────────────────┐\n",
       "│ 売上日     ┆ 時刻 ┆ ユーザー ┆ 購入金額 ┆ 日時                │\n",
       "│ ---        ┆ ---  ┆ ---      ┆ ---      ┆ ---                 │\n",
       "│ str        ┆ i64  ┆ str      ┆ i64      ┆ datetime[μs]        │\n",
       "╞════════════╪══════╪══════════╪══════════╪═════════════════════╡\n",
       "│ 2025-01-04 ┆ 14   ┆ G        ┆ 3880     ┆ 2025-01-04 14:00:00 │\n",
       "│ 2025-01-04 ┆ 14   ┆ V        ┆ 1730     ┆ 2025-01-04 14:00:00 │\n",
       "│ 2025-01-04 ┆ 17   ┆ R        ┆ 2680     ┆ 2025-01-04 17:00:00 │\n",
       "│ 2025-01-04 ┆ 17   ┆ U        ┆ 3200     ┆ 2025-01-04 17:00:00 │\n",
       "│ 2025-01-05 ┆ 13   ┆ W        ┆ 3110     ┆ 2025-01-05 13:00:00 │\n",
       "│ …          ┆ …    ┆ …        ┆ …        ┆ …                   │\n",
       "│ 2025-03-29 ┆ 17   ┆ T        ┆ 3720     ┆ 2025-03-29 17:00:00 │\n",
       "│ 2025-03-30 ┆ 13   ┆ C        ┆ 3320     ┆ 2025-03-30 13:00:00 │\n",
       "│ 2025-03-30 ┆ 16   ┆ I        ┆ 1820     ┆ 2025-03-30 16:00:00 │\n",
       "│ 2025-03-30 ┆ 16   ┆ L        ┆ 2400     ┆ 2025-03-30 16:00:00 │\n",
       "│ 2025-03-30 ┆ 17   ┆ L        ┆ 2090     ┆ 2025-03-30 17:00:00 │\n",
       "└────────────┴──────┴──────────┴──────────┴─────────────────────┘"
      ]
     },
     "metadata": {},
     "output_type": "display_data"
    }
   ],
   "source": [
    "purchase_df = pl.read_csv(\"assets/purchase_data.csv\")\n",
    "purchase_df = purchase_df.with_columns(\n",
    "    (pl.col(\"売上日\").str.to_datetime(\"%Y-%m-%d\") + pl.duration(hours=pl.col(\"時刻\"))).alias(\"日時\")\n",
    ")\n",
    "new_purchase_df = purchase_df.filter(\n",
    "    (pl.col(\"日時\").dt.hour().is_between(13, 17, closed=\"both\"))\n",
    "    & (pl.col(\"日時\").dt.weekday().is_in([6, 7]))  # 6が土曜日, 7が日曜日\n",
    ")\n",
    "display(new_purchase_df)"
   ]
  },
  {
   "cell_type": "markdown",
   "metadata": {},
   "source": [
    "## 3. 何日ぶりに購入したかを計算する\n",
    "\n",
    "`purchase_df`でユーザーが何日ぶりに訪れたかを、新しく**来店間隔**列を作成してください。"
   ]
  },
  {
   "cell_type": "markdown",
   "metadata": {},
   "source": [
    "Polarsでは`shift`と`over`を使用することでグループごとにシフトすることができます。  \n",
    "今回では `pl.col(\"日時\").shift(1).over(\"ユーザー\")` とすることで1つ前の日時を取得することができます(なおソートされていることが前提です)。  \n",
    "なお、Nステップ前との差分という処理であれば`shift`として差分を取るのと、`diff`を実行するのは同様の操作になります。\n",
    "\n",
    "次に`Datetime型`同士で差分を計算することが可能で、`Duration型`が返されます。  \n",
    "`Duration型`もdtアクササがありますが、`Datetime型`と異なることは注意が必要です。  \n",
    "今回のケースだと、日にちを計算するために`total_days`を使用します。"
   ]
  },
  {
   "cell_type": "code",
   "execution_count": 8,
   "metadata": {},
   "outputs": [
    {
     "data": {
      "text/html": [
       "<div><style>\n",
       ".dataframe > thead > tr,\n",
       ".dataframe > tbody > tr {\n",
       "  text-align: right;\n",
       "  white-space: pre-wrap;\n",
       "}\n",
       "</style>\n",
       "<small>shape: (1_000, 6)</small><table border=\"1\" class=\"dataframe\"><thead><tr><th>売上日</th><th>時刻</th><th>ユーザー</th><th>購入金額</th><th>日時</th><th>来店間隔</th></tr><tr><td>str</td><td>i64</td><td>str</td><td>i64</td><td>datetime[μs]</td><td>i64</td></tr></thead><tbody><tr><td>&quot;2025-01-01&quot;</td><td>9</td><td>&quot;A&quot;</td><td>3510</td><td>2025-01-01 09:00:00</td><td>null</td></tr><tr><td>&quot;2025-01-01&quot;</td><td>9</td><td>&quot;I&quot;</td><td>2100</td><td>2025-01-01 09:00:00</td><td>null</td></tr><tr><td>&quot;2025-01-01&quot;</td><td>13</td><td>&quot;C&quot;</td><td>4210</td><td>2025-01-01 13:00:00</td><td>null</td></tr><tr><td>&quot;2025-01-01&quot;</td><td>13</td><td>&quot;M&quot;</td><td>1850</td><td>2025-01-01 13:00:00</td><td>null</td></tr><tr><td>&quot;2025-01-01&quot;</td><td>14</td><td>&quot;A&quot;</td><td>2770</td><td>2025-01-01 14:00:00</td><td>0</td></tr><tr><td>&hellip;</td><td>&hellip;</td><td>&hellip;</td><td>&hellip;</td><td>&hellip;</td><td>&hellip;</td></tr><tr><td>&quot;2025-03-31&quot;</td><td>19</td><td>&quot;H&quot;</td><td>3250</td><td>2025-03-31 19:00:00</td><td>3</td></tr><tr><td>&quot;2025-03-31&quot;</td><td>19</td><td>&quot;W&quot;</td><td>3960</td><td>2025-03-31 19:00:00</td><td>0</td></tr><tr><td>&quot;2025-03-31&quot;</td><td>20</td><td>&quot;A&quot;</td><td>2960</td><td>2025-03-31 20:00:00</td><td>0</td></tr><tr><td>&quot;2025-03-31&quot;</td><td>21</td><td>&quot;B&quot;</td><td>1190</td><td>2025-03-31 21:00:00</td><td>0</td></tr><tr><td>&quot;2025-03-31&quot;</td><td>21</td><td>&quot;D&quot;</td><td>3570</td><td>2025-03-31 21:00:00</td><td>0</td></tr></tbody></table></div>"
      ],
      "text/plain": [
       "shape: (1_000, 6)\n",
       "┌────────────┬──────┬──────────┬──────────┬─────────────────────┬──────────┐\n",
       "│ 売上日     ┆ 時刻 ┆ ユーザー ┆ 購入金額 ┆ 日時                ┆ 来店間隔 │\n",
       "│ ---        ┆ ---  ┆ ---      ┆ ---      ┆ ---                 ┆ ---      │\n",
       "│ str        ┆ i64  ┆ str      ┆ i64      ┆ datetime[μs]        ┆ i64      │\n",
       "╞════════════╪══════╪══════════╪══════════╪═════════════════════╪══════════╡\n",
       "│ 2025-01-01 ┆ 9    ┆ A        ┆ 3510     ┆ 2025-01-01 09:00:00 ┆ null     │\n",
       "│ 2025-01-01 ┆ 9    ┆ I        ┆ 2100     ┆ 2025-01-01 09:00:00 ┆ null     │\n",
       "│ 2025-01-01 ┆ 13   ┆ C        ┆ 4210     ┆ 2025-01-01 13:00:00 ┆ null     │\n",
       "│ 2025-01-01 ┆ 13   ┆ M        ┆ 1850     ┆ 2025-01-01 13:00:00 ┆ null     │\n",
       "│ 2025-01-01 ┆ 14   ┆ A        ┆ 2770     ┆ 2025-01-01 14:00:00 ┆ 0        │\n",
       "│ …          ┆ …    ┆ …        ┆ …        ┆ …                   ┆ …        │\n",
       "│ 2025-03-31 ┆ 19   ┆ H        ┆ 3250     ┆ 2025-03-31 19:00:00 ┆ 3        │\n",
       "│ 2025-03-31 ┆ 19   ┆ W        ┆ 3960     ┆ 2025-03-31 19:00:00 ┆ 0        │\n",
       "│ 2025-03-31 ┆ 20   ┆ A        ┆ 2960     ┆ 2025-03-31 20:00:00 ┆ 0        │\n",
       "│ 2025-03-31 ┆ 21   ┆ B        ┆ 1190     ┆ 2025-03-31 21:00:00 ┆ 0        │\n",
       "│ 2025-03-31 ┆ 21   ┆ D        ┆ 3570     ┆ 2025-03-31 21:00:00 ┆ 0        │\n",
       "└────────────┴──────┴──────────┴──────────┴─────────────────────┴──────────┘"
      ]
     },
     "metadata": {},
     "output_type": "display_data"
    }
   ],
   "source": [
    "purchase_df = pl.read_csv(\"assets/purchase_data.csv\")\n",
    "purchase_df = purchase_df.with_columns(\n",
    "    (pl.col(\"売上日\").str.to_datetime(\"%Y-%m-%d\") + pl.duration(hours=pl.col(\"時刻\"))).alias(\"日時\")\n",
    ")\n",
    "\n",
    "purchase_df = purchase_df.sort([\"日時\"])  # もしデータがソートされていない場合はソートする\n",
    "purchase_df = purchase_df.with_columns(\n",
    "    (pl.col(\"日時\").diff(1).over(\"ユーザー\")).dt.total_days().alias(\"来店間隔\")\n",
    ")\n",
    "display(purchase_df)"
   ]
  },
  {
   "cell_type": "markdown",
   "metadata": {},
   "source": [
    "## 4. 現在の行を含めずにユーザーごとに累計購入金額と累計購入回数を計算する\n",
    "\n",
    "`purchase_df`で各ユーザーの累計購入金額および累計購入回数を計算して**累計購入金額**, **累計来店回数**列を追加してください。  \n",
    "ただし同一の行の情報は含まないようにして、**累計来店回数**においてもしこれまで来店したことがなければ0の値にしてください。"
   ]
  },
  {
   "cell_type": "markdown",
   "metadata": {},
   "source": [
    "Polarsでは、累積和は`cum_sum`、累積カウントは`cum_count`で、`over句`を使うことでグループごとに集約することができます。  \n",
    "また、同一行の情報は含まないようにするために、1つshiftする必要があります。  \n",
    "`pl.col(\"購入金額\").cum_sum().shift(1).over(\"ユーザー\")`とすることで、累積和を計算して1つshiftする処理をシンプルに記述することができます。"
   ]
  },
  {
   "cell_type": "code",
   "execution_count": 9,
   "metadata": {},
   "outputs": [
    {
     "data": {
      "text/html": [
       "<div><style>\n",
       ".dataframe > thead > tr,\n",
       ".dataframe > tbody > tr {\n",
       "  text-align: right;\n",
       "  white-space: pre-wrap;\n",
       "}\n",
       "</style>\n",
       "<small>shape: (1_000, 6)</small><table border=\"1\" class=\"dataframe\"><thead><tr><th>売上日</th><th>時刻</th><th>ユーザー</th><th>購入金額</th><th>累計購入金額</th><th>累計来店回数</th></tr><tr><td>str</td><td>i64</td><td>str</td><td>i64</td><td>i64</td><td>u32</td></tr></thead><tbody><tr><td>&quot;2025-01-01&quot;</td><td>9</td><td>&quot;A&quot;</td><td>3510</td><td>null</td><td>0</td></tr><tr><td>&quot;2025-01-01&quot;</td><td>9</td><td>&quot;I&quot;</td><td>2100</td><td>null</td><td>0</td></tr><tr><td>&quot;2025-01-01&quot;</td><td>13</td><td>&quot;C&quot;</td><td>4210</td><td>null</td><td>0</td></tr><tr><td>&quot;2025-01-01&quot;</td><td>13</td><td>&quot;M&quot;</td><td>1850</td><td>null</td><td>0</td></tr><tr><td>&quot;2025-01-01&quot;</td><td>14</td><td>&quot;A&quot;</td><td>2770</td><td>3510</td><td>1</td></tr><tr><td>&hellip;</td><td>&hellip;</td><td>&hellip;</td><td>&hellip;</td><td>&hellip;</td><td>&hellip;</td></tr><tr><td>&quot;2025-03-31&quot;</td><td>19</td><td>&quot;H&quot;</td><td>3250</td><td>129510</td><td>42</td></tr><tr><td>&quot;2025-03-31&quot;</td><td>19</td><td>&quot;W&quot;</td><td>3960</td><td>158530</td><td>42</td></tr><tr><td>&quot;2025-03-31&quot;</td><td>20</td><td>&quot;A&quot;</td><td>2960</td><td>114890</td><td>34</td></tr><tr><td>&quot;2025-03-31&quot;</td><td>21</td><td>&quot;B&quot;</td><td>1190</td><td>76050</td><td>45</td></tr><tr><td>&quot;2025-03-31&quot;</td><td>21</td><td>&quot;D&quot;</td><td>3570</td><td>179480</td><td>45</td></tr></tbody></table></div>"
      ],
      "text/plain": [
       "shape: (1_000, 6)\n",
       "┌────────────┬──────┬──────────┬──────────┬──────────────┬──────────────┐\n",
       "│ 売上日     ┆ 時刻 ┆ ユーザー ┆ 購入金額 ┆ 累計購入金額 ┆ 累計来店回数 │\n",
       "│ ---        ┆ ---  ┆ ---      ┆ ---      ┆ ---          ┆ ---          │\n",
       "│ str        ┆ i64  ┆ str      ┆ i64      ┆ i64          ┆ u32          │\n",
       "╞════════════╪══════╪══════════╪══════════╪══════════════╪══════════════╡\n",
       "│ 2025-01-01 ┆ 9    ┆ A        ┆ 3510     ┆ null         ┆ 0            │\n",
       "│ 2025-01-01 ┆ 9    ┆ I        ┆ 2100     ┆ null         ┆ 0            │\n",
       "│ 2025-01-01 ┆ 13   ┆ C        ┆ 4210     ┆ null         ┆ 0            │\n",
       "│ 2025-01-01 ┆ 13   ┆ M        ┆ 1850     ┆ null         ┆ 0            │\n",
       "│ 2025-01-01 ┆ 14   ┆ A        ┆ 2770     ┆ 3510         ┆ 1            │\n",
       "│ …          ┆ …    ┆ …        ┆ …        ┆ …            ┆ …            │\n",
       "│ 2025-03-31 ┆ 19   ┆ H        ┆ 3250     ┆ 129510       ┆ 42           │\n",
       "│ 2025-03-31 ┆ 19   ┆ W        ┆ 3960     ┆ 158530       ┆ 42           │\n",
       "│ 2025-03-31 ┆ 20   ┆ A        ┆ 2960     ┆ 114890       ┆ 34           │\n",
       "│ 2025-03-31 ┆ 21   ┆ B        ┆ 1190     ┆ 76050        ┆ 45           │\n",
       "│ 2025-03-31 ┆ 21   ┆ D        ┆ 3570     ┆ 179480       ┆ 45           │\n",
       "└────────────┴──────┴──────────┴──────────┴──────────────┴──────────────┘"
      ]
     },
     "metadata": {},
     "output_type": "display_data"
    }
   ],
   "source": [
    "purchase_df = pl.read_csv(\"assets/purchase_data.csv\")\n",
    "purchase_df = purchase_df.with_columns(\n",
    "    (pl.col(\"購入金額\").cum_sum().shift(1).over(\"ユーザー\")).alias(\"累計購入金額\"),\n",
    "    (pl.col(\"購入金額\").cum_count().shift(1).over(\"ユーザー\").fill_null(0)).alias(\"累計来店回数\"),\n",
    ")\n",
    "display(purchase_df)"
   ]
  },
  {
   "cell_type": "markdown",
   "metadata": {},
   "source": [
    "## 5. 直近3回の購入平均額および最大購入額を計算する\n",
    "\n",
    "`purchase_df`で各ユーザーごとの直近3回の購入金額の平均と、最大購入金額を計算して**直近3回の購入平均額**, **直近3回の最大購入額**列を追加してください。  \n",
    "ただしもし3回も購入したことがなければ、最低でも**2回以上**購入していればその平均値と最大値の計算を行ってください。"
   ]
  },
  {
   "cell_type": "markdown",
   "metadata": {},
   "source": [
    "Polarsでは、**rolling_mean**や**rolling_max**などでNステップ前までの集約を行うことができます。  \n",
    "また、`min_samples`を指定することが可能で、最低何個のサンプルが存在すれば計算を行うか指定することができます。  \n",
    "記述方法としては先ほどの問題とほぼ一緒で、`cum_sum`から`rolling_mean`, `rolling_max`に変更するだけです。\n",
    "\n",
    "`mean`や`max`の他にも`min`, `max`, `std`などの集約も可能なため、公式ドキュメントを確認してください。"
   ]
  },
  {
   "cell_type": "code",
   "execution_count": 10,
   "metadata": {},
   "outputs": [
    {
     "data": {
      "text/html": [
       "<div><style>\n",
       ".dataframe > thead > tr,\n",
       ".dataframe > tbody > tr {\n",
       "  text-align: right;\n",
       "  white-space: pre-wrap;\n",
       "}\n",
       "</style>\n",
       "<small>shape: (1_000, 6)</small><table border=\"1\" class=\"dataframe\"><thead><tr><th>売上日</th><th>時刻</th><th>ユーザー</th><th>購入金額</th><th>直近3回の購入平均額</th><th>直近3回の最大購入額</th></tr><tr><td>str</td><td>i64</td><td>str</td><td>i64</td><td>f64</td><td>i64</td></tr></thead><tbody><tr><td>&quot;2025-01-01&quot;</td><td>9</td><td>&quot;A&quot;</td><td>3510</td><td>null</td><td>null</td></tr><tr><td>&quot;2025-01-01&quot;</td><td>9</td><td>&quot;I&quot;</td><td>2100</td><td>null</td><td>null</td></tr><tr><td>&quot;2025-01-01&quot;</td><td>13</td><td>&quot;C&quot;</td><td>4210</td><td>null</td><td>null</td></tr><tr><td>&quot;2025-01-01&quot;</td><td>13</td><td>&quot;M&quot;</td><td>1850</td><td>null</td><td>null</td></tr><tr><td>&quot;2025-01-01&quot;</td><td>14</td><td>&quot;A&quot;</td><td>2770</td><td>null</td><td>null</td></tr><tr><td>&hellip;</td><td>&hellip;</td><td>&hellip;</td><td>&hellip;</td><td>&hellip;</td><td>&hellip;</td></tr><tr><td>&quot;2025-03-31&quot;</td><td>19</td><td>&quot;H&quot;</td><td>3250</td><td>2826.666667</td><td>3610</td></tr><tr><td>&quot;2025-03-31&quot;</td><td>19</td><td>&quot;W&quot;</td><td>3960</td><td>4126.666667</td><td>4270</td></tr><tr><td>&quot;2025-03-31&quot;</td><td>20</td><td>&quot;A&quot;</td><td>2960</td><td>3523.333333</td><td>3810</td></tr><tr><td>&quot;2025-03-31&quot;</td><td>21</td><td>&quot;B&quot;</td><td>1190</td><td>1643.333333</td><td>2060</td></tr><tr><td>&quot;2025-03-31&quot;</td><td>21</td><td>&quot;D&quot;</td><td>3570</td><td>4096.666667</td><td>4320</td></tr></tbody></table></div>"
      ],
      "text/plain": [
       "shape: (1_000, 6)\n",
       "┌────────────┬──────┬──────────┬──────────┬─────────────────────┬─────────────────────┐\n",
       "│ 売上日     ┆ 時刻 ┆ ユーザー ┆ 購入金額 ┆ 直近3回の購入平均額 ┆ 直近3回の最大購入額 │\n",
       "│ ---        ┆ ---  ┆ ---      ┆ ---      ┆ ---                 ┆ ---                 │\n",
       "│ str        ┆ i64  ┆ str      ┆ i64      ┆ f64                 ┆ i64                 │\n",
       "╞════════════╪══════╪══════════╪══════════╪═════════════════════╪═════════════════════╡\n",
       "│ 2025-01-01 ┆ 9    ┆ A        ┆ 3510     ┆ null                ┆ null                │\n",
       "│ 2025-01-01 ┆ 9    ┆ I        ┆ 2100     ┆ null                ┆ null                │\n",
       "│ 2025-01-01 ┆ 13   ┆ C        ┆ 4210     ┆ null                ┆ null                │\n",
       "│ 2025-01-01 ┆ 13   ┆ M        ┆ 1850     ┆ null                ┆ null                │\n",
       "│ 2025-01-01 ┆ 14   ┆ A        ┆ 2770     ┆ null                ┆ null                │\n",
       "│ …          ┆ …    ┆ …        ┆ …        ┆ …                   ┆ …                   │\n",
       "│ 2025-03-31 ┆ 19   ┆ H        ┆ 3250     ┆ 2826.666667         ┆ 3610                │\n",
       "│ 2025-03-31 ┆ 19   ┆ W        ┆ 3960     ┆ 4126.666667         ┆ 4270                │\n",
       "│ 2025-03-31 ┆ 20   ┆ A        ┆ 2960     ┆ 3523.333333         ┆ 3810                │\n",
       "│ 2025-03-31 ┆ 21   ┆ B        ┆ 1190     ┆ 1643.333333         ┆ 2060                │\n",
       "│ 2025-03-31 ┆ 21   ┆ D        ┆ 3570     ┆ 4096.666667         ┆ 4320                │\n",
       "└────────────┴──────┴──────────┴──────────┴─────────────────────┴─────────────────────┘"
      ]
     },
     "metadata": {},
     "output_type": "display_data"
    }
   ],
   "source": [
    "purchase_df = pl.read_csv(\"assets/purchase_data.csv\")\n",
    "\n",
    "purchase_df = purchase_df.with_columns(\n",
    "    (pl.col(\"購入金額\").rolling_mean(3, min_samples=2).shift(1).over(\"ユーザー\")).alias(\n",
    "        \"直近3回の購入平均額\"\n",
    "    ),\n",
    "    (pl.col(\"購入金額\").rolling_max(3, min_samples=2).shift(1).over(\"ユーザー\")).alias(\n",
    "        \"直近3回の最大購入額\"\n",
    "    ),\n",
    ")\n",
    "display(purchase_df)"
   ]
  },
  {
   "cell_type": "markdown",
   "metadata": {},
   "source": [
    "ユーザーAに限定すると以下のように計算される。"
   ]
  },
  {
   "cell_type": "code",
   "execution_count": 11,
   "metadata": {},
   "outputs": [
    {
     "data": {
      "text/html": [
       "<div><style>\n",
       ".dataframe > thead > tr,\n",
       ".dataframe > tbody > tr {\n",
       "  text-align: right;\n",
       "  white-space: pre-wrap;\n",
       "}\n",
       "</style>\n",
       "<small>shape: (5, 6)</small><table border=\"1\" class=\"dataframe\"><thead><tr><th>売上日</th><th>時刻</th><th>ユーザー</th><th>購入金額</th><th>直近3回の購入平均額</th><th>直近3回の最大購入額</th></tr><tr><td>str</td><td>i64</td><td>str</td><td>i64</td><td>f64</td><td>i64</td></tr></thead><tbody><tr><td>&quot;2025-01-01&quot;</td><td>9</td><td>&quot;A&quot;</td><td>3510</td><td>null</td><td>null</td></tr><tr><td>&quot;2025-01-01&quot;</td><td>14</td><td>&quot;A&quot;</td><td>2770</td><td>null</td><td>null</td></tr><tr><td>&quot;2025-01-01&quot;</td><td>21</td><td>&quot;A&quot;</td><td>3440</td><td>3140.0</td><td>3510</td></tr><tr><td>&quot;2025-01-02&quot;</td><td>9</td><td>&quot;A&quot;</td><td>2910</td><td>3240.0</td><td>3510</td></tr><tr><td>&quot;2025-01-04&quot;</td><td>20</td><td>&quot;A&quot;</td><td>2340</td><td>3040.0</td><td>3440</td></tr></tbody></table></div>"
      ],
      "text/plain": [
       "shape: (5, 6)\n",
       "┌────────────┬──────┬──────────┬──────────┬─────────────────────┬─────────────────────┐\n",
       "│ 売上日     ┆ 時刻 ┆ ユーザー ┆ 購入金額 ┆ 直近3回の購入平均額 ┆ 直近3回の最大購入額 │\n",
       "│ ---        ┆ ---  ┆ ---      ┆ ---      ┆ ---                 ┆ ---                 │\n",
       "│ str        ┆ i64  ┆ str      ┆ i64      ┆ f64                 ┆ i64                 │\n",
       "╞════════════╪══════╪══════════╪══════════╪═════════════════════╪═════════════════════╡\n",
       "│ 2025-01-01 ┆ 9    ┆ A        ┆ 3510     ┆ null                ┆ null                │\n",
       "│ 2025-01-01 ┆ 14   ┆ A        ┆ 2770     ┆ null                ┆ null                │\n",
       "│ 2025-01-01 ┆ 21   ┆ A        ┆ 3440     ┆ 3140.0              ┆ 3510                │\n",
       "│ 2025-01-02 ┆ 9    ┆ A        ┆ 2910     ┆ 3240.0              ┆ 3510                │\n",
       "│ 2025-01-04 ┆ 20   ┆ A        ┆ 2340     ┆ 3040.0              ┆ 3440                │\n",
       "└────────────┴──────┴──────────┴──────────┴─────────────────────┴─────────────────────┘"
      ]
     },
     "metadata": {},
     "output_type": "display_data"
    }
   ],
   "source": [
    "display(purchase_df.filter(pl.col(\"ユーザー\") == \"A\").head(5))"
   ]
  },
  {
   "cell_type": "markdown",
   "metadata": {},
   "source": [
    "## 6. 過去1ヶ月の平均購入額を計算する\n",
    "\n",
    "`purchase_df`で各ユーザーで直近1ヶ月の平均購入金額を計算して**直近1ヶ月の購入平均額**列を追加してください。  \n",
    "ただし同一の行の情報は含まないようにしてください。"
   ]
  },
  {
   "cell_type": "markdown",
   "metadata": {},
   "source": [
    "Polarsでは、`rolling_mean_by`を用いて、時系列情報の列を`by`で指定して、`window_size`で集約したい時間幅を指定することで処理することができます。  \n",
    "また、`closed`で一致する両端を集約に含めるかを選択することができます。  \n",
    "今回の場合だと同一の行情報は含まないようにしたいので右側を含めない`left`に指定します。"
   ]
  },
  {
   "cell_type": "code",
   "execution_count": 12,
   "metadata": {},
   "outputs": [
    {
     "data": {
      "text/html": [
       "<div><style>\n",
       ".dataframe > thead > tr,\n",
       ".dataframe > tbody > tr {\n",
       "  text-align: right;\n",
       "  white-space: pre-wrap;\n",
       "}\n",
       "</style>\n",
       "<small>shape: (1_000, 6)</small><table border=\"1\" class=\"dataframe\"><thead><tr><th>売上日</th><th>時刻</th><th>ユーザー</th><th>購入金額</th><th>日時</th><th>直近1ヶ月の購入平均額</th></tr><tr><td>str</td><td>i64</td><td>str</td><td>i64</td><td>datetime[μs]</td><td>f64</td></tr></thead><tbody><tr><td>&quot;2025-01-01&quot;</td><td>9</td><td>&quot;A&quot;</td><td>3510</td><td>2025-01-01 09:00:00</td><td>null</td></tr><tr><td>&quot;2025-01-01&quot;</td><td>9</td><td>&quot;I&quot;</td><td>2100</td><td>2025-01-01 09:00:00</td><td>null</td></tr><tr><td>&quot;2025-01-01&quot;</td><td>13</td><td>&quot;C&quot;</td><td>4210</td><td>2025-01-01 13:00:00</td><td>null</td></tr><tr><td>&quot;2025-01-01&quot;</td><td>13</td><td>&quot;M&quot;</td><td>1850</td><td>2025-01-01 13:00:00</td><td>null</td></tr><tr><td>&quot;2025-01-01&quot;</td><td>14</td><td>&quot;A&quot;</td><td>2770</td><td>2025-01-01 14:00:00</td><td>3510.0</td></tr><tr><td>&hellip;</td><td>&hellip;</td><td>&hellip;</td><td>&hellip;</td><td>&hellip;</td><td>&hellip;</td></tr><tr><td>&quot;2025-03-31&quot;</td><td>19</td><td>&quot;H&quot;</td><td>3250</td><td>2025-03-31 19:00:00</td><td>2858.0</td></tr><tr><td>&quot;2025-03-31&quot;</td><td>19</td><td>&quot;W&quot;</td><td>3960</td><td>2025-03-31 19:00:00</td><td>3876.666667</td></tr><tr><td>&quot;2025-03-31&quot;</td><td>20</td><td>&quot;A&quot;</td><td>2960</td><td>2025-03-31 20:00:00</td><td>3559.333333</td></tr><tr><td>&quot;2025-03-31&quot;</td><td>21</td><td>&quot;B&quot;</td><td>1190</td><td>2025-03-31 21:00:00</td><td>1661.0</td></tr><tr><td>&quot;2025-03-31&quot;</td><td>21</td><td>&quot;D&quot;</td><td>3570</td><td>2025-03-31 21:00:00</td><td>4083.75</td></tr></tbody></table></div>"
      ],
      "text/plain": [
       "shape: (1_000, 6)\n",
       "┌────────────┬──────┬──────────┬──────────┬─────────────────────┬───────────────────────┐\n",
       "│ 売上日     ┆ 時刻 ┆ ユーザー ┆ 購入金額 ┆ 日時                ┆ 直近1ヶ月の購入平均額 │\n",
       "│ ---        ┆ ---  ┆ ---      ┆ ---      ┆ ---                 ┆ ---                   │\n",
       "│ str        ┆ i64  ┆ str      ┆ i64      ┆ datetime[μs]        ┆ f64                   │\n",
       "╞════════════╪══════╪══════════╪══════════╪═════════════════════╪═══════════════════════╡\n",
       "│ 2025-01-01 ┆ 9    ┆ A        ┆ 3510     ┆ 2025-01-01 09:00:00 ┆ null                  │\n",
       "│ 2025-01-01 ┆ 9    ┆ I        ┆ 2100     ┆ 2025-01-01 09:00:00 ┆ null                  │\n",
       "│ 2025-01-01 ┆ 13   ┆ C        ┆ 4210     ┆ 2025-01-01 13:00:00 ┆ null                  │\n",
       "│ 2025-01-01 ┆ 13   ┆ M        ┆ 1850     ┆ 2025-01-01 13:00:00 ┆ null                  │\n",
       "│ 2025-01-01 ┆ 14   ┆ A        ┆ 2770     ┆ 2025-01-01 14:00:00 ┆ 3510.0                │\n",
       "│ …          ┆ …    ┆ …        ┆ …        ┆ …                   ┆ …                     │\n",
       "│ 2025-03-31 ┆ 19   ┆ H        ┆ 3250     ┆ 2025-03-31 19:00:00 ┆ 2858.0                │\n",
       "│ 2025-03-31 ┆ 19   ┆ W        ┆ 3960     ┆ 2025-03-31 19:00:00 ┆ 3876.666667           │\n",
       "│ 2025-03-31 ┆ 20   ┆ A        ┆ 2960     ┆ 2025-03-31 20:00:00 ┆ 3559.333333           │\n",
       "│ 2025-03-31 ┆ 21   ┆ B        ┆ 1190     ┆ 2025-03-31 21:00:00 ┆ 1661.0                │\n",
       "│ 2025-03-31 ┆ 21   ┆ D        ┆ 3570     ┆ 2025-03-31 21:00:00 ┆ 4083.75               │\n",
       "└────────────┴──────┴──────────┴──────────┴─────────────────────┴───────────────────────┘"
      ]
     },
     "metadata": {},
     "output_type": "display_data"
    }
   ],
   "source": [
    "purchase_df = pl.read_csv(\"assets/purchase_data.csv\")\n",
    "purchase_df = purchase_df.with_columns(\n",
    "    (pl.col(\"売上日\").str.to_datetime(\"%Y-%m-%d\") + pl.duration(hours=pl.col(\"時刻\"))).alias(\"日時\")\n",
    ")\n",
    "\n",
    "purchase_df = purchase_df.with_columns(\n",
    "    (\n",
    "        pl.col(\"購入金額\")\n",
    "        .rolling_mean_by(by=\"日時\", window_size=\"1mo\", closed=\"left\")\n",
    "        .over(\"ユーザー\")\n",
    "    ).alias(\"直近1ヶ月の購入平均額\")\n",
    ")\n",
    "display(purchase_df)"
   ]
  },
  {
   "cell_type": "markdown",
   "metadata": {},
   "source": [
    "なお、これまでPolarsのExpressionで記述できるメソッドを紹介していましたが、rollingは`pl.DataFrame`に対するメソッドが存在します。\n",
    "\n",
    "`rolling_mean_by`に対して`index_column`が`by`に相当して、`group_by`でグループを指定し、`period`で時間幅を指定します。  \n",
    "さらに`.agg`で集約式を記述することで目的の移動平均を計算することが可能です。\n",
    "\n",
    "では、新しく計算した`rolling_df`を`purchase_df`に結合するとどうなるでしょうか…？"
   ]
  },
  {
   "cell_type": "code",
   "execution_count": 13,
   "metadata": {},
   "outputs": [
    {
     "data": {
      "text/html": [
       "<div><style>\n",
       ".dataframe > thead > tr,\n",
       ".dataframe > tbody > tr {\n",
       "  text-align: right;\n",
       "  white-space: pre-wrap;\n",
       "}\n",
       "</style>\n",
       "<small>shape: (1_032, 6)</small><table border=\"1\" class=\"dataframe\"><thead><tr><th>売上日</th><th>時刻</th><th>ユーザー</th><th>購入金額</th><th>日時</th><th>直近1ヶ月の購入平均額</th></tr><tr><td>str</td><td>i64</td><td>str</td><td>i64</td><td>datetime[μs]</td><td>f64</td></tr></thead><tbody><tr><td>&quot;2025-01-01&quot;</td><td>9</td><td>&quot;A&quot;</td><td>3510</td><td>2025-01-01 09:00:00</td><td>null</td></tr><tr><td>&quot;2025-01-01&quot;</td><td>9</td><td>&quot;I&quot;</td><td>2100</td><td>2025-01-01 09:00:00</td><td>null</td></tr><tr><td>&quot;2025-01-01&quot;</td><td>13</td><td>&quot;C&quot;</td><td>4210</td><td>2025-01-01 13:00:00</td><td>null</td></tr><tr><td>&quot;2025-01-01&quot;</td><td>13</td><td>&quot;M&quot;</td><td>1850</td><td>2025-01-01 13:00:00</td><td>null</td></tr><tr><td>&quot;2025-01-01&quot;</td><td>14</td><td>&quot;A&quot;</td><td>2770</td><td>2025-01-01 14:00:00</td><td>3510.0</td></tr><tr><td>&hellip;</td><td>&hellip;</td><td>&hellip;</td><td>&hellip;</td><td>&hellip;</td><td>&hellip;</td></tr><tr><td>&quot;2025-03-31&quot;</td><td>19</td><td>&quot;H&quot;</td><td>3250</td><td>2025-03-31 19:00:00</td><td>2858.0</td></tr><tr><td>&quot;2025-03-31&quot;</td><td>19</td><td>&quot;W&quot;</td><td>3960</td><td>2025-03-31 19:00:00</td><td>3876.666667</td></tr><tr><td>&quot;2025-03-31&quot;</td><td>20</td><td>&quot;A&quot;</td><td>2960</td><td>2025-03-31 20:00:00</td><td>3559.333333</td></tr><tr><td>&quot;2025-03-31&quot;</td><td>21</td><td>&quot;B&quot;</td><td>1190</td><td>2025-03-31 21:00:00</td><td>1661.0</td></tr><tr><td>&quot;2025-03-31&quot;</td><td>21</td><td>&quot;D&quot;</td><td>3570</td><td>2025-03-31 21:00:00</td><td>4083.75</td></tr></tbody></table></div>"
      ],
      "text/plain": [
       "shape: (1_032, 6)\n",
       "┌────────────┬──────┬──────────┬──────────┬─────────────────────┬───────────────────────┐\n",
       "│ 売上日     ┆ 時刻 ┆ ユーザー ┆ 購入金額 ┆ 日時                ┆ 直近1ヶ月の購入平均額 │\n",
       "│ ---        ┆ ---  ┆ ---      ┆ ---      ┆ ---                 ┆ ---                   │\n",
       "│ str        ┆ i64  ┆ str      ┆ i64      ┆ datetime[μs]        ┆ f64                   │\n",
       "╞════════════╪══════╪══════════╪══════════╪═════════════════════╪═══════════════════════╡\n",
       "│ 2025-01-01 ┆ 9    ┆ A        ┆ 3510     ┆ 2025-01-01 09:00:00 ┆ null                  │\n",
       "│ 2025-01-01 ┆ 9    ┆ I        ┆ 2100     ┆ 2025-01-01 09:00:00 ┆ null                  │\n",
       "│ 2025-01-01 ┆ 13   ┆ C        ┆ 4210     ┆ 2025-01-01 13:00:00 ┆ null                  │\n",
       "│ 2025-01-01 ┆ 13   ┆ M        ┆ 1850     ┆ 2025-01-01 13:00:00 ┆ null                  │\n",
       "│ 2025-01-01 ┆ 14   ┆ A        ┆ 2770     ┆ 2025-01-01 14:00:00 ┆ 3510.0                │\n",
       "│ …          ┆ …    ┆ …        ┆ …        ┆ …                   ┆ …                     │\n",
       "│ 2025-03-31 ┆ 19   ┆ H        ┆ 3250     ┆ 2025-03-31 19:00:00 ┆ 2858.0                │\n",
       "│ 2025-03-31 ┆ 19   ┆ W        ┆ 3960     ┆ 2025-03-31 19:00:00 ┆ 3876.666667           │\n",
       "│ 2025-03-31 ┆ 20   ┆ A        ┆ 2960     ┆ 2025-03-31 20:00:00 ┆ 3559.333333           │\n",
       "│ 2025-03-31 ┆ 21   ┆ B        ┆ 1190     ┆ 2025-03-31 21:00:00 ┆ 1661.0                │\n",
       "│ 2025-03-31 ┆ 21   ┆ D        ┆ 3570     ┆ 2025-03-31 21:00:00 ┆ 4083.75               │\n",
       "└────────────┴──────┴──────────┴──────────┴─────────────────────┴───────────────────────┘"
      ]
     },
     "metadata": {},
     "output_type": "display_data"
    }
   ],
   "source": [
    "purchase_df = pl.read_csv(\"assets/purchase_data.csv\")\n",
    "purchase_df = purchase_df.with_columns(\n",
    "    (pl.col(\"売上日\").str.to_datetime(\"%Y-%m-%d\") + pl.duration(hours=pl.col(\"時刻\"))).alias(\"日時\")\n",
    ")\n",
    "\n",
    "rolling_df = (\n",
    "    purchase_df.rolling(\n",
    "        index_column=\"日時\",\n",
    "        group_by=\"ユーザー\",\n",
    "        period=\"1mo\",\n",
    "        closed=\"left\",\n",
    "    )\n",
    "    .agg(pl.col(\"購入金額\").mean())\n",
    "    .rename({\"購入金額\": \"直近1ヶ月の購入平均額\"})\n",
    ")\n",
    "\n",
    "# purchase_dfに結合?\n",
    "purchase_df = purchase_df.join(rolling_df, on=[\"日時\", \"ユーザー\"], how=\"left\")\n",
    "display(purchase_df)"
   ]
  },
  {
   "cell_type": "markdown",
   "metadata": {},
   "source": [
    "なんと行数が1,000から増えてしまっています。  \n",
    "原因としては、重複する`売上日`および`ユーザー`があることです。`.unique`で重複する行を削除して結合することで解決します。"
   ]
  },
  {
   "cell_type": "code",
   "execution_count": 14,
   "metadata": {},
   "outputs": [
    {
     "data": {
      "text/html": [
       "<div><style>\n",
       ".dataframe > thead > tr,\n",
       ".dataframe > tbody > tr {\n",
       "  text-align: right;\n",
       "  white-space: pre-wrap;\n",
       "}\n",
       "</style>\n",
       "<small>shape: (1_000, 6)</small><table border=\"1\" class=\"dataframe\"><thead><tr><th>売上日</th><th>時刻</th><th>ユーザー</th><th>購入金額</th><th>日時</th><th>直近1ヶ月の購入平均額</th></tr><tr><td>str</td><td>i64</td><td>str</td><td>i64</td><td>datetime[μs]</td><td>f64</td></tr></thead><tbody><tr><td>&quot;2025-01-01&quot;</td><td>9</td><td>&quot;A&quot;</td><td>3510</td><td>2025-01-01 09:00:00</td><td>null</td></tr><tr><td>&quot;2025-01-01&quot;</td><td>9</td><td>&quot;I&quot;</td><td>2100</td><td>2025-01-01 09:00:00</td><td>null</td></tr><tr><td>&quot;2025-01-01&quot;</td><td>13</td><td>&quot;C&quot;</td><td>4210</td><td>2025-01-01 13:00:00</td><td>null</td></tr><tr><td>&quot;2025-01-01&quot;</td><td>13</td><td>&quot;M&quot;</td><td>1850</td><td>2025-01-01 13:00:00</td><td>null</td></tr><tr><td>&quot;2025-01-01&quot;</td><td>14</td><td>&quot;A&quot;</td><td>2770</td><td>2025-01-01 14:00:00</td><td>3510.0</td></tr><tr><td>&hellip;</td><td>&hellip;</td><td>&hellip;</td><td>&hellip;</td><td>&hellip;</td><td>&hellip;</td></tr><tr><td>&quot;2025-03-31&quot;</td><td>19</td><td>&quot;H&quot;</td><td>3250</td><td>2025-03-31 19:00:00</td><td>2858.0</td></tr><tr><td>&quot;2025-03-31&quot;</td><td>19</td><td>&quot;W&quot;</td><td>3960</td><td>2025-03-31 19:00:00</td><td>3876.666667</td></tr><tr><td>&quot;2025-03-31&quot;</td><td>20</td><td>&quot;A&quot;</td><td>2960</td><td>2025-03-31 20:00:00</td><td>3559.333333</td></tr><tr><td>&quot;2025-03-31&quot;</td><td>21</td><td>&quot;B&quot;</td><td>1190</td><td>2025-03-31 21:00:00</td><td>1661.0</td></tr><tr><td>&quot;2025-03-31&quot;</td><td>21</td><td>&quot;D&quot;</td><td>3570</td><td>2025-03-31 21:00:00</td><td>4083.75</td></tr></tbody></table></div>"
      ],
      "text/plain": [
       "shape: (1_000, 6)\n",
       "┌────────────┬──────┬──────────┬──────────┬─────────────────────┬───────────────────────┐\n",
       "│ 売上日     ┆ 時刻 ┆ ユーザー ┆ 購入金額 ┆ 日時                ┆ 直近1ヶ月の購入平均額 │\n",
       "│ ---        ┆ ---  ┆ ---      ┆ ---      ┆ ---                 ┆ ---                   │\n",
       "│ str        ┆ i64  ┆ str      ┆ i64      ┆ datetime[μs]        ┆ f64                   │\n",
       "╞════════════╪══════╪══════════╪══════════╪═════════════════════╪═══════════════════════╡\n",
       "│ 2025-01-01 ┆ 9    ┆ A        ┆ 3510     ┆ 2025-01-01 09:00:00 ┆ null                  │\n",
       "│ 2025-01-01 ┆ 9    ┆ I        ┆ 2100     ┆ 2025-01-01 09:00:00 ┆ null                  │\n",
       "│ 2025-01-01 ┆ 13   ┆ C        ┆ 4210     ┆ 2025-01-01 13:00:00 ┆ null                  │\n",
       "│ 2025-01-01 ┆ 13   ┆ M        ┆ 1850     ┆ 2025-01-01 13:00:00 ┆ null                  │\n",
       "│ 2025-01-01 ┆ 14   ┆ A        ┆ 2770     ┆ 2025-01-01 14:00:00 ┆ 3510.0                │\n",
       "│ …          ┆ …    ┆ …        ┆ …        ┆ …                   ┆ …                     │\n",
       "│ 2025-03-31 ┆ 19   ┆ H        ┆ 3250     ┆ 2025-03-31 19:00:00 ┆ 2858.0                │\n",
       "│ 2025-03-31 ┆ 19   ┆ W        ┆ 3960     ┆ 2025-03-31 19:00:00 ┆ 3876.666667           │\n",
       "│ 2025-03-31 ┆ 20   ┆ A        ┆ 2960     ┆ 2025-03-31 20:00:00 ┆ 3559.333333           │\n",
       "│ 2025-03-31 ┆ 21   ┆ B        ┆ 1190     ┆ 2025-03-31 21:00:00 ┆ 1661.0                │\n",
       "│ 2025-03-31 ┆ 21   ┆ D        ┆ 3570     ┆ 2025-03-31 21:00:00 ┆ 4083.75               │\n",
       "└────────────┴──────┴──────────┴──────────┴─────────────────────┴───────────────────────┘"
      ]
     },
     "metadata": {},
     "output_type": "display_data"
    }
   ],
   "source": [
    "purchase_df = pl.read_csv(\"assets/purchase_data.csv\")\n",
    "purchase_df = purchase_df.with_columns(\n",
    "    (pl.col(\"売上日\").str.to_datetime(\"%Y-%m-%d\") + pl.duration(hours=pl.col(\"時刻\"))).alias(\"日時\")\n",
    ")\n",
    "\n",
    "rolling_df = (\n",
    "    purchase_df.rolling(\n",
    "        index_column=\"日時\",\n",
    "        group_by=\"ユーザー\",\n",
    "        period=\"1mo\",\n",
    "        closed=\"left\",\n",
    "    )\n",
    "    .agg(pl.col(\"購入金額\").mean())\n",
    "    .rename({\"購入金額\": \"直近1ヶ月の購入平均額\"})\n",
    ")\n",
    "\n",
    "# 重複を取り除く\n",
    "rolling_df = rolling_df.unique(subset=[\"日時\", \"ユーザー\"])\n",
    "\n",
    "# purchase_dfに結合\n",
    "purchase_df = purchase_df.join(rolling_df, on=[\"日時\", \"ユーザー\"], how=\"left\")\n",
    "display(purchase_df)"
   ]
  },
  {
   "cell_type": "markdown",
   "metadata": {},
   "source": [
    "## 7. 過去1週間から過去1日前までの平均購入額を計算する\n",
    "\n",
    "`purchase_df`で各ユーザーで直近1ヶ月の平均購入金額を計算して**過去1週間から過去1日前までの購入平均額**列を追加してください。"
   ]
  },
  {
   "cell_type": "markdown",
   "metadata": {},
   "source": [
    "`rolling`メソッドには、`period`の他に`offset`を指定することができます。  \n",
    "`offset`を指定したときの範囲は`index_column`で指定した日時を`t`としたとき\n",
    "\n",
    "$$\n",
    "(t + \\text{offset},\\ t + \\text{offset} + \\text{period}]\n",
    "$$\n",
    "\n",
    "そのため、過去1週間前から過去1日までを指定する場合は、`offset`を`-1w`, `period`を`6d`に指定する必要があります。"
   ]
  },
  {
   "cell_type": "code",
   "execution_count": 15,
   "metadata": {},
   "outputs": [
    {
     "data": {
      "text/html": [
       "<div><style>\n",
       ".dataframe > thead > tr,\n",
       ".dataframe > tbody > tr {\n",
       "  text-align: right;\n",
       "  white-space: pre-wrap;\n",
       "}\n",
       "</style>\n",
       "<small>shape: (1_000, 6)</small><table border=\"1\" class=\"dataframe\"><thead><tr><th>売上日</th><th>時刻</th><th>ユーザー</th><th>購入金額</th><th>日時</th><th>過去1週間から過去1日前までの購入平均額</th></tr><tr><td>str</td><td>i64</td><td>str</td><td>i64</td><td>datetime[μs]</td><td>f64</td></tr></thead><tbody><tr><td>&quot;2025-01-01&quot;</td><td>9</td><td>&quot;A&quot;</td><td>3510</td><td>2025-01-01 09:00:00</td><td>null</td></tr><tr><td>&quot;2025-01-01&quot;</td><td>9</td><td>&quot;I&quot;</td><td>2100</td><td>2025-01-01 09:00:00</td><td>null</td></tr><tr><td>&quot;2025-01-01&quot;</td><td>13</td><td>&quot;C&quot;</td><td>4210</td><td>2025-01-01 13:00:00</td><td>null</td></tr><tr><td>&quot;2025-01-01&quot;</td><td>13</td><td>&quot;M&quot;</td><td>1850</td><td>2025-01-01 13:00:00</td><td>null</td></tr><tr><td>&quot;2025-01-01&quot;</td><td>14</td><td>&quot;A&quot;</td><td>2770</td><td>2025-01-01 14:00:00</td><td>null</td></tr><tr><td>&hellip;</td><td>&hellip;</td><td>&hellip;</td><td>&hellip;</td><td>&hellip;</td><td>&hellip;</td></tr><tr><td>&quot;2025-03-31&quot;</td><td>19</td><td>&quot;H&quot;</td><td>3250</td><td>2025-03-31 19:00:00</td><td>2830.0</td></tr><tr><td>&quot;2025-03-31&quot;</td><td>19</td><td>&quot;W&quot;</td><td>3960</td><td>2025-03-31 19:00:00</td><td>3980.0</td></tr><tr><td>&quot;2025-03-31&quot;</td><td>20</td><td>&quot;A&quot;</td><td>2960</td><td>2025-03-31 20:00:00</td><td>3550.0</td></tr><tr><td>&quot;2025-03-31&quot;</td><td>21</td><td>&quot;B&quot;</td><td>1190</td><td>2025-03-31 21:00:00</td><td>1795.0</td></tr><tr><td>&quot;2025-03-31&quot;</td><td>21</td><td>&quot;D&quot;</td><td>3570</td><td>2025-03-31 21:00:00</td><td>4090.0</td></tr></tbody></table></div>"
      ],
      "text/plain": [
       "shape: (1_000, 6)\n",
       "┌────────────┬──────┬──────────┬──────────┬─────────────────────┬─────────────────────────────────┐\n",
       "│ 売上日     ┆ 時刻 ┆ ユーザー ┆ 購入金額 ┆ 日時                ┆ 過去1週間から過去1日前までの購  │\n",
       "│ ---        ┆ ---  ┆ ---      ┆ ---      ┆ ---                 ┆ 入平均額                        │\n",
       "│ str        ┆ i64  ┆ str      ┆ i64      ┆ datetime[μs]        ┆ ---                             │\n",
       "│            ┆      ┆          ┆          ┆                     ┆ f64                             │\n",
       "╞════════════╪══════╪══════════╪══════════╪═════════════════════╪═════════════════════════════════╡\n",
       "│ 2025-01-01 ┆ 9    ┆ A        ┆ 3510     ┆ 2025-01-01 09:00:00 ┆ null                            │\n",
       "│ 2025-01-01 ┆ 9    ┆ I        ┆ 2100     ┆ 2025-01-01 09:00:00 ┆ null                            │\n",
       "│ 2025-01-01 ┆ 13   ┆ C        ┆ 4210     ┆ 2025-01-01 13:00:00 ┆ null                            │\n",
       "│ 2025-01-01 ┆ 13   ┆ M        ┆ 1850     ┆ 2025-01-01 13:00:00 ┆ null                            │\n",
       "│ 2025-01-01 ┆ 14   ┆ A        ┆ 2770     ┆ 2025-01-01 14:00:00 ┆ null                            │\n",
       "│ …          ┆ …    ┆ …        ┆ …        ┆ …                   ┆ …                               │\n",
       "│ 2025-03-31 ┆ 19   ┆ H        ┆ 3250     ┆ 2025-03-31 19:00:00 ┆ 2830.0                          │\n",
       "│ 2025-03-31 ┆ 19   ┆ W        ┆ 3960     ┆ 2025-03-31 19:00:00 ┆ 3980.0                          │\n",
       "│ 2025-03-31 ┆ 20   ┆ A        ┆ 2960     ┆ 2025-03-31 20:00:00 ┆ 3550.0                          │\n",
       "│ 2025-03-31 ┆ 21   ┆ B        ┆ 1190     ┆ 2025-03-31 21:00:00 ┆ 1795.0                          │\n",
       "│ 2025-03-31 ┆ 21   ┆ D        ┆ 3570     ┆ 2025-03-31 21:00:00 ┆ 4090.0                          │\n",
       "└────────────┴──────┴──────────┴──────────┴─────────────────────┴─────────────────────────────────┘"
      ]
     },
     "metadata": {},
     "output_type": "display_data"
    }
   ],
   "source": [
    "purchase_df = pl.read_csv(\"assets/purchase_data.csv\")\n",
    "purchase_df = purchase_df.with_columns(\n",
    "    (pl.col(\"売上日\").str.to_datetime(\"%Y-%m-%d\") + pl.duration(hours=pl.col(\"時刻\"))).alias(\"日時\")\n",
    ")\n",
    "\n",
    "rolling_df = (\n",
    "    purchase_df.rolling(\n",
    "        index_column=\"日時\",\n",
    "        group_by=\"ユーザー\",\n",
    "        period=\"6d\",\n",
    "        offset=\"-1w\",\n",
    "        closed=\"both\",\n",
    "    )\n",
    "    .agg(pl.col(\"購入金額\").mean())\n",
    "    .rename({\"購入金額\": \"過去1週間から過去1日前までの購入平均額\"})\n",
    ")\n",
    "\n",
    "rolling_df = rolling_df.unique(subset=[\"日時\", \"ユーザー\"])\n",
    "\n",
    "purchase_df = purchase_df.join(rolling_df, on=[\"日時\", \"ユーザー\"], how=\"left\")\n",
    "display(purchase_df)"
   ]
  },
  {
   "cell_type": "markdown",
   "metadata": {},
   "source": [
    "## 8. 各日にちの合計購入額を計算する\n",
    "\n",
    "`purchase_df`で2025-01-01から2025-03-31まで各日にちごとに購入金額を合計した**日時**と**日次購入金額**からなる新しいDataFrameを作成してください。"
   ]
  },
  {
   "cell_type": "markdown",
   "metadata": {},
   "source": [
    "Polarsでは、`rolling`などでは行に対して集約したのに対し、`group_by_dynamic`で特定の日時基準で集約することができます。  \n",
    "`index_column`で日時を指定して、`every`で集約間隔、`period`で集約範囲を指定することができます。"
   ]
  },
  {
   "cell_type": "code",
   "execution_count": 16,
   "metadata": {},
   "outputs": [
    {
     "data": {
      "text/html": [
       "<div><style>\n",
       ".dataframe > thead > tr,\n",
       ".dataframe > tbody > tr {\n",
       "  text-align: right;\n",
       "  white-space: pre-wrap;\n",
       "}\n",
       "</style>\n",
       "<small>shape: (90, 2)</small><table border=\"1\" class=\"dataframe\"><thead><tr><th>日時</th><th>日次購入金額</th></tr><tr><td>datetime[μs]</td><td>i64</td></tr></thead><tbody><tr><td>2025-01-01 00:00:00</td><td>50890</td></tr><tr><td>2025-01-02 00:00:00</td><td>48840</td></tr><tr><td>2025-01-03 00:00:00</td><td>41470</td></tr><tr><td>2025-01-04 00:00:00</td><td>36590</td></tr><tr><td>2025-01-05 00:00:00</td><td>39600</td></tr><tr><td>&hellip;</td><td>&hellip;</td></tr><tr><td>2025-03-27 00:00:00</td><td>45160</td></tr><tr><td>2025-03-28 00:00:00</td><td>26550</td></tr><tr><td>2025-03-29 00:00:00</td><td>28960</td></tr><tr><td>2025-03-30 00:00:00</td><td>42860</td></tr><tr><td>2025-03-31 00:00:00</td><td>68450</td></tr></tbody></table></div>"
      ],
      "text/plain": [
       "shape: (90, 2)\n",
       "┌─────────────────────┬──────────────┐\n",
       "│ 日時                ┆ 日次購入金額 │\n",
       "│ ---                 ┆ ---          │\n",
       "│ datetime[μs]        ┆ i64          │\n",
       "╞═════════════════════╪══════════════╡\n",
       "│ 2025-01-01 00:00:00 ┆ 50890        │\n",
       "│ 2025-01-02 00:00:00 ┆ 48840        │\n",
       "│ 2025-01-03 00:00:00 ┆ 41470        │\n",
       "│ 2025-01-04 00:00:00 ┆ 36590        │\n",
       "│ 2025-01-05 00:00:00 ┆ 39600        │\n",
       "│ …                   ┆ …            │\n",
       "│ 2025-03-27 00:00:00 ┆ 45160        │\n",
       "│ 2025-03-28 00:00:00 ┆ 26550        │\n",
       "│ 2025-03-29 00:00:00 ┆ 28960        │\n",
       "│ 2025-03-30 00:00:00 ┆ 42860        │\n",
       "│ 2025-03-31 00:00:00 ┆ 68450        │\n",
       "└─────────────────────┴──────────────┘"
      ]
     },
     "metadata": {},
     "output_type": "display_data"
    }
   ],
   "source": [
    "purchase_df = pl.read_csv(\"assets/purchase_data.csv\")\n",
    "purchase_df = purchase_df.with_columns(\n",
    "    (pl.col(\"売上日\").str.to_datetime(\"%Y-%m-%d\") + pl.duration(hours=pl.col(\"時刻\"))).alias(\"日時\")\n",
    ")\n",
    "\n",
    "daily_df = (\n",
    "    purchase_df.group_by_dynamic(index_column=\"日時\", every=\"1d\", period=\"1d\")\n",
    "    .agg(pl.col(\"購入金額\").sum())\n",
    "    .rename({\"購入金額\": \"日次購入金額\"})\n",
    ")\n",
    "display(daily_df)"
   ]
  },
  {
   "cell_type": "code",
   "execution_count": null,
   "metadata": {},
   "outputs": [],
   "source": []
  }
 ],
 "metadata": {
  "kernelspec": {
   "display_name": ".venv",
   "language": "python",
   "name": "python3"
  },
  "language_info": {
   "codemirror_mode": {
    "name": "ipython",
    "version": 3
   },
   "file_extension": ".py",
   "mimetype": "text/x-python",
   "name": "python",
   "nbconvert_exporter": "python",
   "pygments_lexer": "ipython3",
   "version": "3.10.15"
  }
 },
 "nbformat": 4,
 "nbformat_minor": 2
}
