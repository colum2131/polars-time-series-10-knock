{
 "cells": [
  {
   "cell_type": "code",
   "execution_count": 1,
   "metadata": {},
   "outputs": [],
   "source": [
    "import polars as pl\n",
    "\n",
    "\n",
    "# データの読み込み\n",
    "purchase_df = pl.read_csv(\"assets/purchase_data.csv\")\n",
    "sale_df = pl.read_csv(\"assets/sale_data.csv\")"
   ]
  },
  {
   "cell_type": "code",
   "execution_count": 2,
   "metadata": {},
   "outputs": [
    {
     "data": {
      "text/html": [
       "<div><style>\n",
       ".dataframe > thead > tr,\n",
       ".dataframe > tbody > tr {\n",
       "  text-align: right;\n",
       "  white-space: pre-wrap;\n",
       "}\n",
       "</style>\n",
       "<small>shape: (1_000, 4)</small><table border=\"1\" class=\"dataframe\"><thead><tr><th>売上日</th><th>時刻</th><th>ユーザー</th><th>購入金額</th></tr><tr><td>str</td><td>i64</td><td>str</td><td>i64</td></tr></thead><tbody><tr><td>&quot;2025-01-01&quot;</td><td>9</td><td>&quot;A&quot;</td><td>3510</td></tr><tr><td>&quot;2025-01-01&quot;</td><td>9</td><td>&quot;I&quot;</td><td>2100</td></tr><tr><td>&quot;2025-01-01&quot;</td><td>13</td><td>&quot;C&quot;</td><td>4210</td></tr><tr><td>&quot;2025-01-01&quot;</td><td>13</td><td>&quot;M&quot;</td><td>1850</td></tr><tr><td>&quot;2025-01-01&quot;</td><td>14</td><td>&quot;A&quot;</td><td>2770</td></tr><tr><td>&hellip;</td><td>&hellip;</td><td>&hellip;</td><td>&hellip;</td></tr><tr><td>&quot;2025-03-31&quot;</td><td>19</td><td>&quot;H&quot;</td><td>3250</td></tr><tr><td>&quot;2025-03-31&quot;</td><td>19</td><td>&quot;W&quot;</td><td>3960</td></tr><tr><td>&quot;2025-03-31&quot;</td><td>20</td><td>&quot;A&quot;</td><td>2960</td></tr><tr><td>&quot;2025-03-31&quot;</td><td>21</td><td>&quot;B&quot;</td><td>1190</td></tr><tr><td>&quot;2025-03-31&quot;</td><td>21</td><td>&quot;D&quot;</td><td>3570</td></tr></tbody></table></div>"
      ],
      "text/plain": [
       "shape: (1_000, 4)\n",
       "┌────────────┬──────┬──────────┬──────────┐\n",
       "│ 売上日     ┆ 時刻 ┆ ユーザー ┆ 購入金額 │\n",
       "│ ---        ┆ ---  ┆ ---      ┆ ---      │\n",
       "│ str        ┆ i64  ┆ str      ┆ i64      │\n",
       "╞════════════╪══════╪══════════╪══════════╡\n",
       "│ 2025-01-01 ┆ 9    ┆ A        ┆ 3510     │\n",
       "│ 2025-01-01 ┆ 9    ┆ I        ┆ 2100     │\n",
       "│ 2025-01-01 ┆ 13   ┆ C        ┆ 4210     │\n",
       "│ 2025-01-01 ┆ 13   ┆ M        ┆ 1850     │\n",
       "│ 2025-01-01 ┆ 14   ┆ A        ┆ 2770     │\n",
       "│ …          ┆ …    ┆ …        ┆ …        │\n",
       "│ 2025-03-31 ┆ 19   ┆ H        ┆ 3250     │\n",
       "│ 2025-03-31 ┆ 19   ┆ W        ┆ 3960     │\n",
       "│ 2025-03-31 ┆ 20   ┆ A        ┆ 2960     │\n",
       "│ 2025-03-31 ┆ 21   ┆ B        ┆ 1190     │\n",
       "│ 2025-03-31 ┆ 21   ┆ D        ┆ 3570     │\n",
       "└────────────┴──────┴──────────┴──────────┘"
      ]
     },
     "metadata": {},
     "output_type": "display_data"
    }
   ],
   "source": [
    "# `purchase_data`の表示\n",
    "display(purchase_df)"
   ]
  },
  {
   "cell_type": "code",
   "execution_count": 3,
   "metadata": {},
   "outputs": [
    {
     "data": {
      "text/html": [
       "<div><style>\n",
       ".dataframe > thead > tr,\n",
       ".dataframe > tbody > tr {\n",
       "  text-align: right;\n",
       "  white-space: pre-wrap;\n",
       "}\n",
       "</style>\n",
       "<small>shape: (10, 1)</small><table border=\"1\" class=\"dataframe\"><thead><tr><th>日時</th></tr><tr><td>str</td></tr></thead><tbody><tr><td>&quot;2025-01-28T16:00:00.000000&quot;</td></tr><tr><td>&quot;2025-01-24T18:00:00.000000&quot;</td></tr><tr><td>&quot;2025-03-13T09:00:00.000000&quot;</td></tr><tr><td>&quot;2025-01-09T21:00:00.000000&quot;</td></tr><tr><td>&quot;2025-02-16T10:00:00.000000&quot;</td></tr><tr><td>&quot;2025-02-02T10:00:00.000000&quot;</td></tr><tr><td>&quot;2025-03-03T11:00:00.000000&quot;</td></tr><tr><td>&quot;2025-01-19T21:00:00.000000&quot;</td></tr><tr><td>&quot;2025-03-08T14:00:00.000000&quot;</td></tr><tr><td>&quot;2025-03-15T09:00:00.000000&quot;</td></tr></tbody></table></div>"
      ],
      "text/plain": [
       "shape: (10, 1)\n",
       "┌────────────────────────────┐\n",
       "│ 日時                       │\n",
       "│ ---                        │\n",
       "│ str                        │\n",
       "╞════════════════════════════╡\n",
       "│ 2025-01-28T16:00:00.000000 │\n",
       "│ 2025-01-24T18:00:00.000000 │\n",
       "│ 2025-03-13T09:00:00.000000 │\n",
       "│ 2025-01-09T21:00:00.000000 │\n",
       "│ 2025-02-16T10:00:00.000000 │\n",
       "│ 2025-02-02T10:00:00.000000 │\n",
       "│ 2025-03-03T11:00:00.000000 │\n",
       "│ 2025-01-19T21:00:00.000000 │\n",
       "│ 2025-03-08T14:00:00.000000 │\n",
       "│ 2025-03-15T09:00:00.000000 │\n",
       "└────────────────────────────┘"
      ]
     },
     "metadata": {},
     "output_type": "display_data"
    }
   ],
   "source": [
    "# `sale_data`の表示\n",
    "display(sale_df)"
   ]
  },
  {
   "cell_type": "markdown",
   "metadata": {},
   "source": [
    "## 1. 文字列から`Datetime型`への変換\n",
    "\n",
    "`purchase_df`の**売上日**および**時刻**からPolarsのDatetime型へ変換して、新しく**日時**列を追加してください。"
   ]
  },
  {
   "cell_type": "code",
   "execution_count": null,
   "metadata": {},
   "outputs": [],
   "source": []
  },
  {
   "cell_type": "markdown",
   "metadata": {},
   "source": [
    "## 2. 土日の午後1時から午後5時までの行動を抽出する\n",
    "\n",
    "`purchase_df`から土日の午後1時から午後5時までのデータを選択して、新しいデータフレーム`new_purchase_df`を作成してください。"
   ]
  },
  {
   "cell_type": "code",
   "execution_count": null,
   "metadata": {},
   "outputs": [],
   "source": []
  },
  {
   "cell_type": "markdown",
   "metadata": {},
   "source": [
    "## 3. 何日ぶりに購入したかを計算する\n",
    "\n",
    "`purchase_df`でユーザーが何日ぶりに訪れたかを、新しく**来店間隔**列を作成してください。"
   ]
  },
  {
   "cell_type": "code",
   "execution_count": null,
   "metadata": {},
   "outputs": [],
   "source": []
  },
  {
   "cell_type": "markdown",
   "metadata": {},
   "source": [
    "## 4. 現在の行を含めずにユーザーごとに累計購入金額と累計購入回数を計算する\n",
    "\n",
    "`purchase_df`で各ユーザーの累計購入金額および累計購入回数を計算して**累計購入金額**, **累計来店回数**列を追加してください。  \n",
    "ただし同一の行の情報は含まないようにして、**累計来店回数**においてもしこれまで来店したことがなければ0の値にしてください。"
   ]
  },
  {
   "cell_type": "code",
   "execution_count": null,
   "metadata": {},
   "outputs": [],
   "source": []
  },
  {
   "cell_type": "markdown",
   "metadata": {},
   "source": [
    "## 5. 直近3回の購入平均額および最大購入額を計算する\n",
    "\n",
    "`purchase_df`で各ユーザーごとの直近3回の購入金額の平均と、最大購入金額を計算して**直近3回の購入平均額**, **直近3回の最大購入額**列を追加してください。  \n",
    "ただしもし3回も購入したことがなければ、最低でも**2回以上**購入していればその平均値と最大値の計算を行ってください。"
   ]
  },
  {
   "cell_type": "code",
   "execution_count": null,
   "metadata": {},
   "outputs": [],
   "source": []
  },
  {
   "cell_type": "markdown",
   "metadata": {},
   "source": [
    "## 6. 過去1ヶ月の平均購入額を計算する\n",
    "\n",
    "`purchase_df`で各ユーザーで直近1ヶ月の平均購入金額を計算して**直近1ヶ月の購入平均額**列を追加してください。  \n",
    "ただし同一の行の情報は含まないようにしてください。"
   ]
  },
  {
   "cell_type": "code",
   "execution_count": null,
   "metadata": {},
   "outputs": [],
   "source": []
  },
  {
   "cell_type": "markdown",
   "metadata": {},
   "source": [
    "## 7. 過去1週間から過去1日前までの平均購入額を計算する\n",
    "\n",
    "`purchase_df`で各ユーザーで直近1ヶ月の平均購入金額を計算して**過去1週間から過去1日前までの購入平均額**列を追加してください。"
   ]
  },
  {
   "cell_type": "code",
   "execution_count": null,
   "metadata": {},
   "outputs": [],
   "source": []
  },
  {
   "cell_type": "markdown",
   "metadata": {},
   "source": [
    "## 8. 各日にちの合計購入額を計算する\n",
    "\n",
    "`purchase_df`で2025-01-01から2025-03-31まで各日にちごとに購入金額を合計した**日時**と**日次購入金額**からなる新しいDataFrameを作成してください。"
   ]
  },
  {
   "cell_type": "code",
   "execution_count": null,
   "metadata": {},
   "outputs": [],
   "source": []
  }
 ],
 "metadata": {
  "kernelspec": {
   "display_name": ".venv",
   "language": "python",
   "name": "python3"
  },
  "language_info": {
   "codemirror_mode": {
    "name": "ipython",
    "version": 3
   },
   "file_extension": ".py",
   "mimetype": "text/x-python",
   "name": "python",
   "nbconvert_exporter": "python",
   "pygments_lexer": "ipython3",
   "version": "3.10.15"
  }
 },
 "nbformat": 4,
 "nbformat_minor": 2
}
